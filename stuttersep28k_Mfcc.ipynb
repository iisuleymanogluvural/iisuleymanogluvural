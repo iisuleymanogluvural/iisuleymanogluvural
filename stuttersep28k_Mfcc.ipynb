{
  "metadata": {
    "kernelspec": {
      "language": "python",
      "display_name": "Python 3",
      "name": "python3"
    },
    "language_info": {
      "name": "python",
      "version": "3.11.11",
      "mimetype": "text/x-python",
      "codemirror_mode": {
        "name": "ipython",
        "version": 3
      },
      "pygments_lexer": "ipython3",
      "nbconvert_exporter": "python",
      "file_extension": ".py"
    },
    "kaggle": {
      "accelerator": "none",
      "dataSources": [
        {
          "sourceId": 2781089,
          "sourceType": "datasetVersion",
          "datasetId": 1697786
        },
        {
          "sourceId": 4305061,
          "sourceType": "datasetVersion",
          "datasetId": 2535965
        }
      ],
      "dockerImageVersionId": 31040,
      "isInternetEnabled": true,
      "language": "python",
      "sourceType": "notebook",
      "isGpuEnabled": false
    },
    "colab": {
      "name": "stuttersep28k Mfcc",
      "provenance": [],
      "include_colab_link": true
    }
  },
  "nbformat_minor": 0,
  "nbformat": 4,
  "cells": [
    {
      "cell_type": "markdown",
      "metadata": {
        "id": "view-in-github",
        "colab_type": "text"
      },
      "source": [
        "<a href=\"https://colab.research.google.com/github/iisuleymanogluvural/iisuleymanogluvural/blob/main/stuttersep28k_Mfcc.ipynb\" target=\"_parent\"><img src=\"https://colab.research.google.com/assets/colab-badge.svg\" alt=\"Open In Colab\"/></a>"
      ]
    },
    {
      "source": [
        "# IMPORTANT: RUN THIS CELL IN ORDER TO IMPORT YOUR KAGGLE DATA SOURCES,\n",
        "# THEN FEEL FREE TO DELETE THIS CELL.\n",
        "# NOTE: THIS NOTEBOOK ENVIRONMENT DIFFERS FROM KAGGLE'S PYTHON\n",
        "# ENVIRONMENT SO THERE MAY BE MISSING LIBRARIES USED BY YOUR\n",
        "# NOTEBOOK.\n",
        "import kagglehub\n",
        "bschuss02_sep28k_path = kagglehub.dataset_download('bschuss02/sep28k')\n",
        "mitulgargsam_sep28kmfcc_path = kagglehub.dataset_download('mitulgargsam/sep28kmfcc')\n",
        "\n",
        "print('Data source import complete.')\n"
      ],
      "metadata": {
        "id": "ukl1jyeXYY1x"
      },
      "cell_type": "code",
      "outputs": [],
      "execution_count": null
    },
    {
      "cell_type": "markdown",
      "source": [
        "Asıl hedefim, Sounddevice ile anlık kekemelik türünün tespitini sağlamak\n",
        "o yüzden sounddevice kütüphanesini ,kagge'da kullanamasam da install yaptım"
      ],
      "metadata": {
        "id": "cMnqh2niYY1z"
      }
    },
    {
      "cell_type": "code",
      "source": [
        "pip install sounddevice librosa scikit-learn numpy"
      ],
      "metadata": {
        "trusted": true,
        "execution": {
          "iopub.status.busy": "2025-06-06T22:15:46.81156Z",
          "iopub.execute_input": "2025-06-06T22:15:46.812057Z",
          "iopub.status.idle": "2025-06-06T22:15:51.498441Z",
          "shell.execute_reply.started": "2025-06-06T22:15:46.812012Z",
          "shell.execute_reply": "2025-06-06T22:15:51.496921Z"
        },
        "id": "8HT0RdesYY12"
      },
      "outputs": [],
      "execution_count": null
    },
    {
      "cell_type": "code",
      "source": [
        "#I performed version control because I will be using lightGBM for machine learning.\n",
        "import lightgbm\n",
        "print(lightgbm.__version__)"
      ],
      "metadata": {
        "trusted": true,
        "execution": {
          "iopub.status.busy": "2025-06-06T22:15:51.521463Z",
          "iopub.execute_input": "2025-06-06T22:15:51.521849Z",
          "iopub.status.idle": "2025-06-06T22:15:51.555458Z",
          "shell.execute_reply.started": "2025-06-06T22:15:51.521821Z",
          "shell.execute_reply": "2025-06-06T22:15:51.553916Z"
        },
        "id": "hVzCY1BCYY12"
      },
      "outputs": [],
      "execution_count": null
    },
    {
      "cell_type": "code",
      "source": [
        "\n",
        "import pandas as pd #dataframe ,Data analysis\n",
        "import numpy as np #Numerical Computing,MultiDimensional Array Core library\n",
        "from sklearn.model_selection import train_test_split #ML,Selects train/Test data\n",
        "from sklearn.preprocessing import LabelEncoder#convert categorical labels into numerical form.\n",
        "from lightgbm import LGBMClassifier#effective gradient boosting-based classification model\n",
        "import joblib#save and load models to and from disk\n"
      ],
      "metadata": {
        "trusted": true,
        "execution": {
          "iopub.status.busy": "2025-06-06T22:15:51.558652Z",
          "iopub.execute_input": "2025-06-06T22:15:51.559128Z",
          "iopub.status.idle": "2025-06-06T22:15:51.584252Z",
          "shell.execute_reply.started": "2025-06-06T22:15:51.5591Z",
          "shell.execute_reply": "2025-06-06T22:15:51.582823Z"
        },
        "id": "fLjhIoFrYY13"
      },
      "outputs": [],
      "execution_count": null
    },
    {
      "cell_type": "code",
      "source": [
        "df = pd.read_csv(\"/kaggle/input/sep28kmfcc/sep28k-mfcc.csv\")  # dosyayı okuduk\n",
        "df = df.dropna()#NaN Data had been removed\n",
        "\n",
        "print(df.columns.tolist())#Control data head\n"
      ],
      "metadata": {
        "trusted": true,
        "execution": {
          "iopub.status.busy": "2025-06-06T22:15:51.585935Z",
          "iopub.execute_input": "2025-06-06T22:15:51.586275Z",
          "iopub.status.idle": "2025-06-06T22:15:51.791104Z",
          "shell.execute_reply.started": "2025-06-06T22:15:51.586252Z",
          "shell.execute_reply": "2025-06-06T22:15:51.78977Z"
        },
        "id": "mS0l1TUsYY13"
      },
      "outputs": [],
      "execution_count": null
    },
    {
      "cell_type": "code",
      "source": [
        "#I needed to see the beginning of the data, it appears with df.head.\n",
        "print(df.head())"
      ],
      "metadata": {
        "trusted": true,
        "id": "J7xYMyEhYY14"
      },
      "outputs": [],
      "execution_count": null
    },
    {
      "cell_type": "code",
      "source": [
        "#Since the data is multitable, we took the part where each column equals 1.\n",
        "def assign_label(row):\n",
        "    if row['Prolongation'] == 1:\n",
        "        return 'Prolongation'\n",
        "    elif row['Block'] == 1:\n",
        "        return 'Block'\n",
        "    elif row['SoundRep'] == 1:\n",
        "        return 'SoundRep'\n",
        "    else:\n",
        "        return 'Other'\n",
        "\n",
        "df['label'] = df.apply(assign_label, axis=1)\n"
      ],
      "metadata": {
        "trusted": true,
        "execution": {
          "iopub.status.busy": "2025-06-06T22:15:51.79291Z",
          "iopub.execute_input": "2025-06-06T22:15:51.793323Z",
          "iopub.status.idle": "2025-06-06T22:15:52.021971Z",
          "shell.execute_reply.started": "2025-06-06T22:15:51.793288Z",
          "shell.execute_reply": "2025-06-06T22:15:52.020011Z"
        },
        "id": "s-JFcvnJYY15"
      },
      "outputs": [],
      "execution_count": null
    },
    {
      "cell_type": "code",
      "source": [
        "# Target label : 'label' (example: Prolongation, Block, SoundRep)\n",
        "df = df[df['label'].isin(['Prolongation', 'Block', 'SoundRep'])]\n"
      ],
      "metadata": {
        "trusted": true,
        "execution": {
          "iopub.status.busy": "2025-06-06T22:15:52.022954Z",
          "iopub.execute_input": "2025-06-06T22:15:52.023231Z",
          "iopub.status.idle": "2025-06-06T22:15:52.040074Z",
          "shell.execute_reply.started": "2025-06-06T22:15:52.023209Z",
          "shell.execute_reply": "2025-06-06T22:15:52.038008Z"
        },
        "id": "7v1JnhsPYY15"
      },
      "outputs": [],
      "execution_count": null
    },
    {
      "cell_type": "code",
      "source": [
        "#fitting,With LabelEncoder\n",
        "from sklearn.preprocessing import LabelEncoder\n",
        "\n",
        "le = LabelEncoder()\n",
        "df['label_encoded'] = le.fit_transform(df['label'])\n"
      ],
      "metadata": {
        "trusted": true,
        "execution": {
          "iopub.status.busy": "2025-06-06T22:15:52.041736Z",
          "iopub.execute_input": "2025-06-06T22:15:52.042119Z",
          "iopub.status.idle": "2025-06-06T22:15:52.06207Z",
          "shell.execute_reply.started": "2025-06-06T22:15:52.042092Z",
          "shell.execute_reply": "2025-06-06T22:15:52.060894Z"
        },
        "id": "wTYlwZS9YY15"
      },
      "outputs": [],
      "execution_count": null
    },
    {
      "cell_type": "code",
      "source": [
        "# Exclude cols that will not be used for model\n",
        "exclude_cols = ['Show', 'Name', 'label', 'label_encoded']\n",
        "feature_cols = [col for col in df.columns if col not in exclude_cols]\n",
        "\n",
        "X = df[feature_cols]\n",
        "y = df['label_encoded']\n"
      ],
      "metadata": {
        "trusted": true,
        "execution": {
          "iopub.status.busy": "2025-06-06T22:15:52.062918Z",
          "iopub.execute_input": "2025-06-06T22:15:52.063441Z",
          "iopub.status.idle": "2025-06-06T22:15:52.08863Z",
          "shell.execute_reply.started": "2025-06-06T22:15:52.063402Z",
          "shell.execute_reply": "2025-06-06T22:15:52.087413Z"
        },
        "id": "vls_YGsZYY16"
      },
      "outputs": [],
      "execution_count": null
    },
    {
      "cell_type": "code",
      "source": [
        "#Model Train with LGBMClassifier\n",
        "from sklearn.model_selection import train_test_split\n",
        "from lightgbm import LGBMClassifier\n",
        "from sklearn.metrics import classification_report\n",
        "\n",
        "X_train, X_test, y_train, y_test = train_test_split(\n",
        "    X, y, test_size=0.25, random_state=42, stratify=y\n",
        ")\n",
        "\n",
        "model = LGBMClassifier(n_estimators=200, random_state=42)\n",
        "model.fit(X_train, y_train)\n",
        "\n",
        "y_pred = model.predict(X_test)\n",
        "print(classification_report(y_test, y_pred, target_names=le.classes_))\n"
      ],
      "metadata": {
        "trusted": true,
        "execution": {
          "iopub.status.busy": "2025-06-06T22:15:52.093572Z",
          "iopub.execute_input": "2025-06-06T22:15:52.094062Z",
          "iopub.status.idle": "2025-06-06T22:15:53.23709Z",
          "shell.execute_reply.started": "2025-06-06T22:15:52.094023Z",
          "shell.execute_reply": "2025-06-06T22:15:53.235514Z"
        },
        "collapsed": true,
        "jupyter": {
          "outputs_hidden": true
        },
        "id": "owIgUuACYY16"
      },
      "outputs": [],
      "execution_count": null
    },
    {
      "cell_type": "code",
      "source": [
        "#Save Model\n",
        "import joblib\n",
        "\n",
        "joblib.dump(model, 'stutter_model.pkl')\n"
      ],
      "metadata": {
        "trusted": true,
        "execution": {
          "iopub.status.busy": "2025-06-06T22:15:53.238246Z",
          "iopub.execute_input": "2025-06-06T22:15:53.238581Z",
          "iopub.status.idle": "2025-06-06T22:15:53.280315Z",
          "shell.execute_reply.started": "2025-06-06T22:15:53.238549Z",
          "shell.execute_reply": "2025-06-06T22:15:53.278882Z"
        },
        "id": "ecTOa9W0YY16"
      },
      "outputs": [],
      "execution_count": null
    },
    {
      "cell_type": "code",
      "source": [
        "\n",
        "joblib.dump(le, 'label_encoder.pkl')\n"
      ],
      "metadata": {
        "trusted": true,
        "execution": {
          "iopub.status.busy": "2025-06-06T22:15:53.28229Z",
          "iopub.execute_input": "2025-06-06T22:15:53.283131Z",
          "iopub.status.idle": "2025-06-06T22:15:53.295013Z",
          "shell.execute_reply.started": "2025-06-06T22:15:53.283086Z",
          "shell.execute_reply": "2025-06-06T22:15:53.293363Z"
        },
        "id": "qKrohBbVYY16"
      },
      "outputs": [],
      "execution_count": null
    },
    {
      "cell_type": "code",
      "source": [
        "joblib.dump(feature_cols, 'feature_cols.pkl')\n"
      ],
      "metadata": {
        "trusted": true,
        "execution": {
          "iopub.status.busy": "2025-06-06T22:15:53.296285Z",
          "iopub.execute_input": "2025-06-06T22:15:53.296749Z",
          "iopub.status.idle": "2025-06-06T22:15:53.324814Z",
          "shell.execute_reply.started": "2025-06-06T22:15:53.296712Z",
          "shell.execute_reply": "2025-06-06T22:15:53.323765Z"
        },
        "id": "414rlmvSYY16"
      },
      "outputs": [],
      "execution_count": null
    },
    {
      "cell_type": "code",
      "source": [
        "#Control again\n",
        "print (df.columns.tolist())"
      ],
      "metadata": {
        "trusted": true,
        "execution": {
          "iopub.status.busy": "2025-06-06T22:15:53.326043Z",
          "iopub.execute_input": "2025-06-06T22:15:53.326514Z",
          "iopub.status.idle": "2025-06-06T22:15:53.348326Z",
          "shell.execute_reply.started": "2025-06-06T22:15:53.326478Z",
          "shell.execute_reply": "2025-06-06T22:15:53.347241Z"
        },
        "id": "JxZNQHD3YY16"
      },
      "outputs": [],
      "execution_count": null
    },
    {
      "cell_type": "code",
      "source": [
        "# By removing those that will not be used from the model from all columns:\n",
        "all_columns = df.columns.tolist()\n",
        "exclude_cols = ['Show', 'Name', 'label', 'label_encoded'] #We dont use\n",
        "feature_cols = [col for col in all_columns if col not in exclude_cols]\n",
        "\n",
        "print(\"Feature numbers,will be used in model:\", len(feature_cols)) #control again\n",
        "print(feature_cols)\n"
      ],
      "metadata": {
        "trusted": true,
        "execution": {
          "iopub.status.busy": "2025-06-06T22:15:53.349395Z",
          "iopub.execute_input": "2025-06-06T22:15:53.349774Z",
          "iopub.status.idle": "2025-06-06T22:15:53.372407Z",
          "shell.execute_reply.started": "2025-06-06T22:15:53.349727Z",
          "shell.execute_reply": "2025-06-06T22:15:53.37096Z"
        },
        "id": "TcvBonm6YY17"
      },
      "outputs": [],
      "execution_count": null
    },
    {
      "cell_type": "code",
      "source": [
        "#for voice normlization to 16 Khz\n",
        "import librosa\n",
        "import soundfile as sf\n",
        "\n",
        "def normalize_audio_to_16k(file_path, save_path=None):\n",
        "    # 16 kHz olarak yükle\n",
        "    y, sr = librosa.load(file_path, sr=16000)\n",
        "\n",
        "    if save_path:\n",
        "        sf.write(save_path, y, 16000)\n",
        "\n",
        "    return y, 16000\n",
        "\n",
        "# Kullanım:\n",
        "y, sr = normalize_audio_to_16k(\"/kaggle/input/sep28k/clips/stuttering-clips/clips/FluencyBank_010_0.wav\")\n",
        "print(f\"Audio loaded with sampling rate: {sr}\")"
      ],
      "metadata": {
        "trusted": true,
        "execution": {
          "iopub.status.busy": "2025-06-06T22:15:53.374258Z",
          "iopub.execute_input": "2025-06-06T22:15:53.374734Z",
          "iopub.status.idle": "2025-06-06T22:15:53.407873Z",
          "shell.execute_reply.started": "2025-06-06T22:15:53.374697Z",
          "shell.execute_reply": "2025-06-06T22:15:53.405949Z"
        },
        "id": "91mkndcEYY17"
      },
      "outputs": [],
      "execution_count": null
    },
    {
      "cell_type": "code",
      "source": [
        "import librosa\n",
        "import numpy as np #Looked to Chatgpt\n",
        "def extract_features(file_path, trim_silence=True, sr=22050):\n",
        "    # Ses dosyasını yükle\n",
        "    y, sr = librosa.load(file_path, sr=sr)\n",
        "\n",
        "\n",
        "    # Normalize the voice data\n",
        "    if np.max(np.abs(y)) > 0:\n",
        "        y = y / np.max(np.abs(y))\n",
        "\n",
        "    # MFCC\n",
        "    mfccs = librosa.feature.mfcc(y=y, sr=sr, n_mfcc=13)\n",
        "    mfccs_mean = np.mean(mfccs, axis=1)\n",
        "\n",
        "    # Chroma\n",
        "    chroma = librosa.feature.chroma_stft(y=y, sr=sr)\n",
        "    chroma_mean = np.mean(chroma, axis=1)\n",
        "\n",
        "    # Zero Crossing Rate\n",
        "    zcr = np.mean(librosa.feature.zero_crossing_rate(y))\n",
        "\n",
        "    # Spectral Contrast\n",
        "    spec_contrast = np.mean(librosa.feature.spectral_contrast(y=y, sr=sr))\n",
        "\n",
        "    # Hepsini birleştir\n",
        "    features = np.hstack([mfccs_mean, chroma_mean, zcr, spec_contrast])\n",
        "    return features\n"
      ],
      "metadata": {
        "trusted": true,
        "execution": {
          "iopub.status.busy": "2025-06-06T22:15:53.409035Z",
          "iopub.execute_input": "2025-06-06T22:15:53.409344Z",
          "iopub.status.idle": "2025-06-06T22:15:53.421616Z",
          "shell.execute_reply.started": "2025-06-06T22:15:53.409314Z",
          "shell.execute_reply": "2025-06-06T22:15:53.419828Z"
        },
        "id": "7RrE89LNYY17"
      },
      "outputs": [],
      "execution_count": null
    },
    {
      "cell_type": "code",
      "source": [
        "features = extract_features(\"/kaggle/input/sep28k/clips/stuttering-clips/clips/FluencyBank_010_0.wav\")\n",
        "print(features.shape)  # 29-2 (exported labelencoder,label x entrance)"
      ],
      "metadata": {
        "trusted": true,
        "execution": {
          "iopub.status.busy": "2025-06-06T22:15:53.423135Z",
          "iopub.execute_input": "2025-06-06T22:15:53.423553Z",
          "iopub.status.idle": "2025-06-06T22:15:53.513662Z",
          "shell.execute_reply.started": "2025-06-06T22:15:53.423516Z",
          "shell.execute_reply": "2025-06-06T22:15:53.512391Z"
        },
        "id": "ez_TP5deYY17"
      },
      "outputs": [],
      "execution_count": null
    },
    {
      "cell_type": "code",
      "source": [
        "import joblib\n",
        "import pandas as pd\n",
        "\n",
        "# upload Model,Encoder,Column Names\n",
        "model = joblib.load(\"stutter_model.pkl\")\n",
        "le = joblib.load(\"label_encoder.pkl\")\n",
        "feature_cols = joblib.load(\"feature_cols.pkl\")\n",
        "\n",
        "def predict_from_audio(file_path):\n",
        "    features = extract_features(file_path)\n",
        "\n",
        "    # fill with zeros if column's number doesnt match\n",
        "    if len(features) < len(feature_cols):\n",
        "        features = np.append(features, np.zeros(len(feature_cols) - len(features)))\n",
        "    elif len(features) > len(feature_cols):\n",
        "        features = features[:len(feature_cols)]\n",
        "\n",
        "    # transform the data appropriately\n",
        "    features_df = pd.DataFrame([features], columns=feature_cols)\n",
        "\n",
        "    pred = model.predict(features_df)\n",
        "    label = le.inverse_transform(pred)\n",
        "\n",
        "    print(\"Predicted Stuttering Type:\", label[0])\n",
        "    return label[0]\n"
      ],
      "metadata": {
        "trusted": true,
        "execution": {
          "iopub.status.busy": "2025-06-06T22:15:53.515147Z",
          "iopub.execute_input": "2025-06-06T22:15:53.51555Z",
          "iopub.status.idle": "2025-06-06T22:15:53.546238Z",
          "shell.execute_reply.started": "2025-06-06T22:15:53.515515Z",
          "shell.execute_reply": "2025-06-06T22:15:53.544101Z"
        },
        "id": "h4Og0vTLYY17"
      },
      "outputs": [],
      "execution_count": null
    },
    {
      "cell_type": "code",
      "source": [
        "print(df.columns.tolist())"
      ],
      "metadata": {
        "trusted": true,
        "execution": {
          "iopub.status.busy": "2025-06-06T22:15:53.548729Z",
          "iopub.execute_input": "2025-06-06T22:15:53.549074Z",
          "iopub.status.idle": "2025-06-06T22:15:53.557185Z",
          "shell.execute_reply.started": "2025-06-06T22:15:53.549045Z",
          "shell.execute_reply": "2025-06-06T22:15:53.555825Z"
        },
        "id": "0yp9CaALYY17"
      },
      "outputs": [],
      "execution_count": null
    },
    {
      "cell_type": "code",
      "source": [
        "\"\"\"I am having a problem here. I mean, it calls all stuttering \"block\"! The reason is, I don't understand its reason!!!\"\"\""
      ],
      "metadata": {
        "trusted": true,
        "execution": {
          "iopub.status.busy": "2025-06-06T22:15:53.559008Z",
          "iopub.execute_input": "2025-06-06T22:15:53.559436Z",
          "iopub.status.idle": "2025-06-06T22:15:53.587507Z",
          "shell.execute_reply.started": "2025-06-06T22:15:53.559397Z",
          "shell.execute_reply": "2025-06-06T22:15:53.586076Z"
        },
        "id": "2ZvlABe5YY17"
      },
      "outputs": [],
      "execution_count": null
    },
    {
      "cell_type": "code",
      "source": [
        "predict_from_audio(\"/kaggle/input/sep28k/clips/stuttering-clips/clips/FluencyBank_010_89.wav\")"
      ],
      "metadata": {
        "trusted": true,
        "execution": {
          "iopub.status.busy": "2025-06-06T22:15:53.589297Z",
          "iopub.execute_input": "2025-06-06T22:15:53.589953Z",
          "iopub.status.idle": "2025-06-06T22:15:53.673194Z",
          "shell.execute_reply.started": "2025-06-06T22:15:53.589909Z",
          "shell.execute_reply": "2025-06-06T22:15:53.671843Z"
        },
        "id": "QlkSTBVgYY17"
      },
      "outputs": [],
      "execution_count": null
    }
  ]
}